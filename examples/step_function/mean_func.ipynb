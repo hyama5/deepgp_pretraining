{
 "cells": [
  {
   "cell_type": "code",
   "execution_count": 1,
   "metadata": {},
   "outputs": [],
   "source": [
    "import numpy as np\n",
    "import torch\n",
    "\n",
    "import matplotlib.pyplot as plt\n",
    "import seaborn as sns\n",
    "%matplotlib inline\n",
    "\n",
    "# %load_ext autoreload\n",
    "# %autoreload 2"
   ]
  },
  {
   "cell_type": "code",
   "execution_count": 2,
   "metadata": {},
   "outputs": [],
   "source": [
    "import torch\n",
    "import torch.utils.data"
   ]
  },
  {
   "cell_type": "code",
   "execution_count": 3,
   "metadata": {},
   "outputs": [],
   "source": [
    "# DGP related methods\n",
    "import sys\n",
    "sys.path.append('../..')\n",
    "\n",
    "from dsvidgp.kernels import RBF\n",
    "from dsvidgp.likelihoods import Gaussian\n",
    "from dsvidgp.layers import SVGPLayer\n",
    "from dsvidgp.initial_value import calc_median_of_pairwise_distance, calc_centroid"
   ]
  },
  {
   "cell_type": "code",
   "execution_count": 4,
   "metadata": {},
   "outputs": [],
   "source": [
    "RAND_SEED = 811\n",
    "torch.manual_seed(RAND_SEED)\n",
    "np.random.seed(RAND_SEED)"
   ]
  },
  {
   "cell_type": "code",
   "execution_count": 5,
   "metadata": {},
   "outputs": [
    {
     "data": {
      "text/plain": [
       "device(type='cpu')"
      ]
     },
     "execution_count": 5,
     "metadata": {},
     "output_type": "execute_result"
    }
   ],
   "source": [
    "device = torch.device(\"cuda\" if torch.cuda.is_available() else \"cpu\")\n",
    "device"
   ]
  },
  {
   "cell_type": "code",
   "execution_count": 6,
   "metadata": {},
   "outputs": [],
   "source": [
    "DATA_SIZE = 50\n",
    "MINIBATCH_SIZE = 10\n",
    "\n",
    "HIDDEN_LAYER_DIM = 3\n",
    "INPUT_DIM = 1\n",
    "OUTPUT_DIM = 1\n",
    "\n",
    "# GP configurations\n",
    "NUM_INDUCINGS = 20\n",
    "GP_LEARNING_RATE = 0.01\n",
    "DGP_NUM_EPOCHS = 1000\n"
   ]
  },
  {
   "cell_type": "markdown",
   "metadata": {},
   "source": [
    "## Make data"
   ]
  },
  {
   "cell_type": "code",
   "execution_count": 7,
   "metadata": {},
   "outputs": [
    {
     "data": {
      "text/plain": [
       "[<matplotlib.lines.Line2D at 0x1a1e864cc0>]"
      ]
     },
     "execution_count": 7,
     "metadata": {},
     "output_type": "execute_result"
    },
    {
     "data": {
      "image/png": "[encoded data removed]",
      "text/plain": [
       "<Figure size 432x288 with 1 Axes>"
      ]
     },
     "metadata": {
      "needs_background": "light"
     },
     "output_type": "display_data"
    }
   ],
   "source": [
    "\n",
    "dx = np.random.rand(DATA_SIZE, 1).astype(np.float32) * 2.0 - 1.0\n",
    "dy = np.where(dx + 0.04 * np.random.randn(*dx.shape) >= 0.0, 1.0, -1.0) \\\n",
    "        + 0.04 * np.random.randn(*dx.shape)\n",
    "dy = dy.astype(np.float32)\n",
    "\n",
    "nx = np.linspace(-1.0, 1.0, 200)[:, None]\n",
    "\n",
    "plt.plot(dx, dy, 'o')"
   ]
  },
  {
   "cell_type": "code",
   "execution_count": 8,
   "metadata": {},
   "outputs": [],
   "source": [
    "class Dataset(torch.utils.data.Dataset):\n",
    "    def __init__(self, dx, dy):\n",
    "\n",
    "        self._N = len(dx)\n",
    "        self._dx = dx\n",
    "        self._dy = dy\n",
    "        \n",
    "    def __len__(self):\n",
    "        return self._N\n",
    "    \n",
    "    def __getitem__(self, idx):\n",
    "        return self._dx[idx], self._dy[idx]\n",
    "    \n",
    "dataset = Dataset(dx, dy)\n",
    "dataloader = torch.utils.data.DataLoader(dataset, batch_size=MINIBATCH_SIZE, shuffle=True)\n"
   ]
  },
  {
   "cell_type": "markdown",
   "metadata": {},
   "source": [
    "## Training method"
   ]
  },
  {
   "cell_type": "code",
   "execution_count": 9,
   "metadata": {},
   "outputs": [],
   "source": [
    "def train(optimizer, model, num_epochs):\n",
    "    lower_bound_list = list()\n",
    "    pred_mean_list = list()\n",
    "\n",
    "    tx = torch.from_numpy(nx.astype(np.float32))\n",
    "\n",
    "    pred_dstr = model.predict(tx.to(device))\n",
    "    pred_mean_list.append(pred_dstr['mean'].data.cpu().numpy().copy())\n",
    "\n",
    "    from ipywidgets import FloatProgress\n",
    "    from IPython.display import display\n",
    "\n",
    "    fp = FloatProgress(min=0, max=num_epochs)\n",
    "    display(fp)\n",
    "\n",
    "    for i in range(num_epochs):\n",
    "        fp.value = i\n",
    "        lower_bound = 0\n",
    "        \n",
    "        model.train()\n",
    "        for b, (x_B, y_B) in enumerate(dataloader):\n",
    "            x_B = x_B.to(device)\n",
    "            y_B = y_B.to(device)\n",
    "\n",
    "            optimizer.zero_grad()\n",
    "\n",
    "            f_dstr = model(x_B)\n",
    "            batch_bound = model.calc_bound(y_B, f_dstr)\n",
    "\n",
    "            loss = -batch_bound  # maximize\n",
    "            loss.backward()\n",
    "            \n",
    "            optimizer.step()\n",
    "\n",
    "            lower_bound += batch_bound.data.cpu().item()\n",
    "\n",
    "        lower_bound_list.append(lower_bound)\n",
    "\n",
    "        model.eval()\n",
    "        pred_dstr = model.predict(tx.to(device))\n",
    "        pred_mean_list.append(pred_dstr['mean'].data.cpu().numpy().copy())\n",
    "\n",
    "    return lower_bound_list, pred_mean_list\n"
   ]
  },
  {
   "cell_type": "markdown",
   "metadata": {},
   "source": [
    "## Model definition"
   ]
  },
  {
   "cell_type": "code",
   "execution_count": 10,
   "metadata": {},
   "outputs": [
    {
     "data": {
      "text/plain": [
       "DGP3(\n",
       "  (layer1): SVGPLayer(\n",
       "    input_dim=1, output_dim=3, num_inducings=20\n",
       "    (kernel): RBF()\n",
       "  )\n",
       "  (layer2): SVGPLayer(\n",
       "    input_dim=3, output_dim=3, num_inducings=20\n",
       "    (kernel): RBF()\n",
       "  )\n",
       "  (layer3): SVGPLayer(\n",
       "    input_dim=3, output_dim=1, num_inducings=20\n",
       "    (kernel): RBF()\n",
       "  )\n",
       "  (likelihood): Gaussian()\n",
       ")"
      ]
     },
     "execution_count": 10,
     "metadata": {},
     "output_type": "execute_result"
    }
   ],
   "source": [
    "class DGP3(torch.nn.Module):\n",
    "    \"\"\"3-layer deep Gaussian process model.\"\"\"\n",
    "    \n",
    "    def __init__(self, initial_inducing_input,\n",
    "                 initial_lengthscale, data_size):\n",
    "        super().__init__()\n",
    "    \n",
    "        # layer 1\n",
    "        kern1 = RBF(input_dim=INPUT_DIM,\n",
    "                    initial_lengthscale=initial_lengthscale)\n",
    "        self.layer1 = SVGPLayer(kernel=kern1,\n",
    "                                input_dim=INPUT_DIM,\n",
    "                                output_dim=HIDDEN_LAYER_DIM,\n",
    "                                initial_inducing_input=initial_inducing_input,\n",
    "                                initial_q_S_value=0.01,\n",
    "                                fix_inducing=False)\n",
    "\n",
    "        # define a function that copies 1-dim value to 1st dimension.\n",
    "        lin = torch.zeros((INPUT_DIM, HIDDEN_LAYER_DIM))\n",
    "        lin[:, 0] = 1.0\n",
    "        self.mean_func1 = lambda x: torch.mm(x, lin)\n",
    "        \n",
    "        # layer 2\n",
    "        kern2 = RBF(input_dim=HIDDEN_LAYER_DIM,\n",
    "                    initial_lengthscale=initial_lengthscale)\n",
    "        self.layer2 = SVGPLayer(kernel=kern1,\n",
    "                                input_dim=HIDDEN_LAYER_DIM,\n",
    "                                output_dim=HIDDEN_LAYER_DIM,\n",
    "                                num_inducings=NUM_INDUCINGS,\n",
    "                                initial_q_S_value=0.01,\n",
    "                                fix_inducing=True)\n",
    "\n",
    "        self.mean_func2 = lambda x: x\n",
    "        \n",
    "        # layer 3\n",
    "        kern3 = RBF(input_dim=HIDDEN_LAYER_DIM,\n",
    "                    initial_lengthscale=initial_lengthscale)\n",
    "        self.layer3 = SVGPLayer(kernel=kern3,\n",
    "                                input_dim=HIDDEN_LAYER_DIM,\n",
    "                                output_dim=OUTPUT_DIM,\n",
    "                                num_inducings=NUM_INDUCINGS,\n",
    "                                initial_q_S_value=1.0,\n",
    "                                fix_inducing=True)\n",
    "\n",
    "        # output\n",
    "        self.likelihood = Gaussian(output_dim=OUTPUT_DIM,\n",
    "                                   initial_variance=1e-3)\n",
    "\n",
    "        self.layers = [self.layer1, self.layer2, self.layer3]\n",
    "        self.data_size = data_size\n",
    "\n",
    "    def forward(self, x):\n",
    "        h1 = self.mean_func1(x) + self.layer1(x)\n",
    "        h2 = self.mean_func2(h1) + self.layer2(h1)\n",
    "\n",
    "        return self.layer3.pred_mean_and_var(h2)\n",
    "    \n",
    "    def calc_bound(self, y, f_dstr):\n",
    "        pe = self.likelihood.predictive_expectation(y, f_dstr)\n",
    "        \n",
    "        kld = sum(layer.kl_divergence() for layer in self.layers)\n",
    "        \n",
    "        batch_size = y.size(0)\n",
    "        bound = pe  - batch_size / self.data_size * kld\n",
    "        \n",
    "        return bound\n",
    "     \n",
    "    def predict(self, x):\n",
    "        f_dstr = self.forward(x)\n",
    "\n",
    "        y_dstr = self.likelihood.predict(f_dstr)\n",
    "        return y_dstr\n",
    "\n",
    "\n",
    "def make_dgp3():\n",
    "    lengthscale = calc_median_of_pairwise_distance([dx])\n",
    "    centroid = calc_centroid(NUM_INDUCINGS, [dx])\n",
    "    \n",
    "    model = DGP3(initial_inducing_input=centroid,\n",
    "                 initial_lengthscale=lengthscale,\n",
    "                 data_size=DATA_SIZE)\n",
    "    \n",
    "    return model\n",
    "\n",
    "model = make_dgp3()\n",
    "model\n"
   ]
  },
  {
   "cell_type": "code",
   "execution_count": 11,
   "metadata": {},
   "outputs": [
    {
     "data": {
      "application/vnd.jupyter.widget-view+json": {
       "model_id": "1af21e222022486d94ecb5cbf5146546",
       "version_major": 2,
       "version_minor": 0
      },
      "text/plain": [
       "FloatProgress(value=0.0, max=1000.0)"
      ]
     },
     "metadata": {},
     "output_type": "display_data"
    }
   ],
   "source": [
    "optimizer = torch.optim.Adam(model.parameters(), lr=GP_LEARNING_RATE)\n",
    "lower_bound_list, pred_mean_list = train(optimizer, model, num_epochs=DGP_NUM_EPOCHS)"
   ]
  },
  {
   "cell_type": "markdown",
   "metadata": {},
   "source": [
    "## Results"
   ]
  },
  {
   "cell_type": "code",
   "execution_count": 12,
   "metadata": {},
   "outputs": [
    {
     "data": {
      "text/plain": [
       "[<matplotlib.lines.Line2D at 0x1a1e9d7b70>]"
      ]
     },
     "execution_count": 12,
     "metadata": {},
     "output_type": "execute_result"
    },
    {
     "data": {
      "image/png": "[encoded data removed]",
      "text/plain": [
       "<Figure size 432x288 with 1 Axes>"
      ]
     },
     "metadata": {
      "needs_background": "light"
     },
     "output_type": "display_data"
    }
   ],
   "source": [
    "# plotting the change of ELBO\n",
    "plt.plot(lower_bound_list)"
   ]
  },
  {
   "cell_type": "markdown",
   "metadata": {},
   "source": [
    "### plot predicted mean for each epoch"
   ]
  },
  {
   "cell_type": "code",
   "execution_count": 13,
   "metadata": {},
   "outputs": [
    {
     "data": {
      "text/plain": [
       "<matplotlib.legend.Legend at 0x1a210ad208>"
      ]
     },
     "execution_count": 13,
     "metadata": {},
     "output_type": "execute_result"
    },
    {
     "data": {
      "image/png": "[encoded data removed]",
      "text/plain": [
       "<Figure size 432x288 with 1 Axes>"
      ]
     },
     "metadata": {
      "needs_background": "light"
     },
     "output_type": "display_data"
    }
   ],
   "source": [
    "plt.plot(nx, pred_mean_list[0], label='init')\n",
    "for j in [10, 100, 1000]:\n",
    "    if j < len(pred_mean_list):\n",
    "        plt.plot(nx, pred_mean_list[j], label=str(j))\n",
    "plt.plot(dx, dy, 'o', label='data')\n",
    "plt.legend()"
   ]
  },
  {
   "cell_type": "markdown",
   "metadata": {},
   "source": [
    "## plot layer-wise value"
   ]
  },
  {
   "cell_type": "code",
   "execution_count": 14,
   "metadata": {},
   "outputs": [
    {
     "data": {
      "text/plain": [
       "[<matplotlib.lines.Line2D at 0x1a211ebf60>,\n",
       " <matplotlib.lines.Line2D at 0x1a211f40f0>,\n",
       " <matplotlib.lines.Line2D at 0x1a211f4240>]"
      ]
     },
     "execution_count": 14,
     "metadata": {},
     "output_type": "execute_result"
    },
    {
     "data": {
      "image/png": "[encoded data removed]",
      "text/plain": [
       "<Figure size 432x288 with 1 Axes>"
      ]
     },
     "metadata": {
      "needs_background": "light"
     },
     "output_type": "display_data"
    }
   ],
   "source": [
    "tx = torch.from_numpy(nx.astype(np.float32))\n",
    "m1 = model.mean_func1(tx) + model.layer1.pred_mean_and_var(tx)['mean']\n",
    "plt.plot(nx, m1.data.numpy())"
   ]
  },
  {
   "cell_type": "code",
   "execution_count": 15,
   "metadata": {},
   "outputs": [
    {
     "data": {
      "text/plain": [
       "[<matplotlib.lines.Line2D at 0x1a212d30f0>,\n",
       " <matplotlib.lines.Line2D at 0x1a212d3240>,\n",
       " <matplotlib.lines.Line2D at 0x1a212d3390>]"
      ]
     },
     "execution_count": 15,
     "metadata": {},
     "output_type": "execute_result"
    },
    {
     "data": {
      "image/png": "[encoded data removed]",
      "text/plain": [
       "<Figure size 432x288 with 1 Axes>"
      ]
     },
     "metadata": {
      "needs_background": "light"
     },
     "output_type": "display_data"
    }
   ],
   "source": [
    "m2 = model.mean_func2(m1) + model.layer2.pred_mean_and_var(m1)['mean']\n",
    "plt.plot(nx, m2.data.numpy())"
   ]
  },
  {
   "cell_type": "markdown",
   "metadata": {},
   "source": [
    "Plot predictive distribution approximated by\n",
    "$$\n",
    "\\begin{align}\n",
    "p(y) &= \\int p(y | f) q(f | \\bar{h}^{(2)}) df \\\\\n",
    "\\bar{h}^{(2)} &= \\mathbb{E}\\left[ q(h^{(2)} | \\bar{h}^{(1)}) \\right] \\\\\n",
    "\\bar{h}^{(1)} &= \\mathbb{E}\\left[ q(h^{(1)} | x) \\right].\n",
    "\\end{align}\n",
    "$$\n"
   ]
  },
  {
   "cell_type": "code",
   "execution_count": 16,
   "metadata": {},
   "outputs": [
    {
     "data": {
      "text/plain": [
       "<matplotlib.legend.Legend at 0x1a2128fa90>"
      ]
     },
     "execution_count": 16,
     "metadata": {},
     "output_type": "execute_result"
    },
    {
     "data": {
      "image/png": "[encoded data removed]",
      "text/plain": [
       "<Figure size 432x288 with 1 Axes>"
      ]
     },
     "metadata": {
      "needs_background": "light"
     },
     "output_type": "display_data"
    }
   ],
   "source": [
    "f_dstr =model.layer3.pred_mean_and_var(m2)\n",
    "y_dstr = model.likelihood.predict(f_dstr)\n",
    "m_y = y_dstr['mean'].data.numpy()\n",
    "s_y = np.sqrt(y_dstr['var'].data.numpy())\n",
    "plt.fill_between(nx.ravel(), (m_y + s_y).ravel(), (m_y - s_y).ravel(), color='#cccccc')\n",
    "plt.plot(nx, m_y, label='mean')\n",
    "plt.plot(dx, dy, 'o', label='data')\n",
    "plt.legend()"
   ]
  },
  {
   "cell_type": "code",
   "execution_count": null,
   "metadata": {},
   "outputs": [],
   "source": []
  }
 ],
 "metadata": {
  "kernelspec": {
   "display_name": "Python 3",
   "language": "python",
   "name": "python3"
  },
  "language_info": {
   "codemirror_mode": {
    "name": "ipython",
    "version": 3
   },
   "file_extension": ".py",
   "mimetype": "text/x-python",
   "name": "python",
   "nbconvert_exporter": "python",
   "pygments_lexer": "ipython3",
   "version": "3.7.3"
  }
 },
 "nbformat": 4,
 "nbformat_minor": 2
}
