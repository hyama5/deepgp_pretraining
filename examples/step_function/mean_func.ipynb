{
 "cells": [
  {
   "cell_type": "code",
   "execution_count": 20,
   "metadata": {},
   "outputs": [
    {
     "name": "stdout",
     "output_type": "stream",
     "text": [
      "The autoreload extension is already loaded. To reload it, use:\n",
      "  %reload_ext autoreload\n"
     ]
    }
   ],
   "source": [
    "import numpy as np\n",
    "import torch\n",
    "\n",
    "import matplotlib.pyplot as plt\n",
    "import seaborn as sns\n",
    "%matplotlib inline\n",
    "\n",
    "%load_ext autoreload\n",
    "%autoreload 2"
   ]
  },
  {
   "cell_type": "code",
   "execution_count": 25,
   "metadata": {},
   "outputs": [],
   "source": [
    "# DGP related methods\n",
    "import sys\n",
    "sys.path.append('../..')\n",
    "\n",
    "from dsvidgp.kernels import RBF\n",
    "from dsvidgp.likelihoods import Gaussian\n",
    "from dsvidgp.layers import SVGPLayer"
   ]
  },
  {
   "cell_type": "code",
   "execution_count": 21,
   "metadata": {},
   "outputs": [
    {
     "data": {
      "text/plain": [
       "device(type='cpu')"
      ]
     },
     "execution_count": 21,
     "metadata": {},
     "output_type": "execute_result"
    }
   ],
   "source": [
    "device = torch.device(\"cuda\" if torch.cuda.is_available() else \"cpu\")\n",
    "device"
   ]
  },
  {
   "cell_type": "code",
   "execution_count": 26,
   "metadata": {},
   "outputs": [],
   "source": [
    "DATA_SIZE = 50\n",
    "MINIBATCH_SIZE = 10"
   ]
  },
  {
   "cell_type": "markdown",
   "metadata": {},
   "source": [
    "## Make data"
   ]
  },
  {
   "cell_type": "code",
   "execution_count": 66,
   "metadata": {},
   "outputs": [
    {
     "data": {
      "text/plain": [
       "[<matplotlib.lines.Line2D at 0x1a23fe1198>]"
      ]
     },
     "execution_count": 66,
     "metadata": {},
     "output_type": "execute_result"
    },
    {
     "data": {
      "image/png": "[encoded data removed]",
      "text/plain": [
       "<Figure size 432x288 with 1 Axes>"
      ]
     },
     "metadata": {
      "needs_background": "light"
     },
     "output_type": "display_data"
    }
   ],
   "source": [
    "np.random.seed(811)\n",
    "dx = np.random.rand(DATA_SIZE, 1).astype(np.float32) * 2.0 - 1.0\n",
    "dy = np.where(dx + 0.04 * np.random.randn(*dx.shape) >= 0.0, 0.5, -0.5) \\\n",
    "        + 0.04 * np.random.randn(*dx.shape)\n",
    "dy = dy.astype(np.float32)\n",
    "\n",
    "nx = np.linspace(-1.0, 1.0, 200)[:, None]\n",
    "\n",
    "plt.plot(dx, dy, 'o')"
   ]
  },
  {
   "cell_type": "code",
   "execution_count": 32,
   "metadata": {},
   "outputs": [],
   "source": [
    "class Dataset(torch.utils.data.Dataset):\n",
    "    def __init__(self, dx, dy):\n",
    "\n",
    "        self._N = len(dx)\n",
    "        self._dx = dx\n",
    "        self._dy = dy\n",
    "        \n",
    "    def __len__(self):\n",
    "        return self._N\n",
    "    \n",
    "    def __getitem__(self, idx):\n",
    "        return self._dx[idx], self._dy[idx]\n",
    "    \n",
    "dataset = Dataset(dx, dy)\n",
    "dataloader = data.DataLoader(dataset, batch_size=MINIBATCH_SIZE, shuffle=True)\n"
   ]
  },
  {
   "cell_type": "markdown",
   "metadata": {},
   "source": [
    "## Training method"
   ]
  },
  {
   "cell_type": "code",
   "execution_count": 62,
   "metadata": {},
   "outputs": [],
   "source": [
    "def train(optimizer, model, num_epochs=1000):\n",
    "    lower_bound_list = list()\n",
    "    pred_mean_list = list()\n",
    "\n",
    "    tx = torch.from_numpy(nx.astype(np.float32))\n",
    "\n",
    "    pred_dstr = model.predict(tx.to(device))\n",
    "    pred_mean_list.append(pred_dstr['mean'].data.cpu().numpy().copy())\n",
    "\n",
    "    from ipywidgets import FloatProgress\n",
    "    from IPython.display import display\n",
    "\n",
    "    fp = FloatProgress(min=0, max=num_epochs)\n",
    "    display(fp)\n",
    "\n",
    "    for i in range(num_epochs):\n",
    "        fp.value = i\n",
    "        lower_bound = 0\n",
    "        \n",
    "        model.train()\n",
    "        for b, (x_B, y_B) in enumerate(dataloader):\n",
    "            x_B = x_B.to(device)\n",
    "            y_B = y_B.to(device)\n",
    "\n",
    "            optimizer.zero_grad()\n",
    "\n",
    "            f_dstr = model(x_B)\n",
    "            batch_bound = model.calc_bound(y_B, f_dstr)\n",
    "\n",
    "            loss = -batch_bound  # maximize\n",
    "            loss.backward()\n",
    "            \n",
    "            optimizer.step()\n",
    "\n",
    "            lower_bound += batch_bound.data.cpu().item()\n",
    "\n",
    "        lower_bound_list.append(lower_bound)\n",
    "\n",
    "        model.eval()\n",
    "        pred_dstr = model.predict(tx.to(device))\n",
    "        pred_mean_list.append(pred_dstr['mean'].data.cpu().numpy().copy())\n",
    "\n",
    "    return lower_bound_list, pred_mean_list\n"
   ]
  },
  {
   "cell_type": "code",
   "execution_count": 69,
   "metadata": {},
   "outputs": [
    {
     "data": {
      "text/plain": [
       "OrderedDict([('layer1.q_diag_S_', tensor([[-4.6003, -4.6003, -4.6003],\n",
       "                      [-4.6003, -4.6003, -4.6003],\n",
       "                      [-4.6003, -4.6003, -4.6003],\n",
       "                      [-4.6003, -4.6003, -4.6003],\n",
       "                      [-4.6003, -4.6003, -4.6003],\n",
       "                      [-4.6003, -4.6003, -4.6003],\n",
       "                      [-4.6003, -4.6003, -4.6003],\n",
       "                      [-4.6003, -4.6003, -4.6003],\n",
       "                      [-4.6003, -4.6003, -4.6003],\n",
       "                      [-4.6003, -4.6003, -4.6003]])),\n",
       "             ('layer1.q_mu', tensor([[0., 0., 0.],\n",
       "                      [0., 0., 0.],\n",
       "                      [0., 0., 0.],\n",
       "                      [0., 0., 0.],\n",
       "                      [0., 0., 0.],\n",
       "                      [0., 0., 0.],\n",
       "                      [0., 0., 0.],\n",
       "                      [0., 0., 0.],\n",
       "                      [0., 0., 0.],\n",
       "                      [0., 0., 0.]])),\n",
       "             ('layer1.z', tensor([[-1.0000],\n",
       "                      [-0.7778],\n",
       "                      [-0.5556],\n",
       "                      [-0.3333],\n",
       "                      [-0.1111],\n",
       "                      [ 0.1111],\n",
       "                      [ 0.3333],\n",
       "                      [ 0.5556],\n",
       "                      [ 0.7778],\n",
       "                      [ 1.0000]])),\n",
       "             ('layer1.kernel.lengthscale_', tensor([-1.5078])),\n",
       "             ('layer1.kernel.magnitude_', tensor([0.5413])),\n",
       "             ('layer1.kernel.floor_', tensor([-9.2203])),\n",
       "             ('layer2.q_diag_S_', tensor([[-4.6003, -4.6003, -4.6003],\n",
       "                      [-4.6003, -4.6003, -4.6003],\n",
       "                      [-4.6003, -4.6003, -4.6003],\n",
       "                      [-4.6003, -4.6003, -4.6003],\n",
       "                      [-4.6003, -4.6003, -4.6003],\n",
       "                      [-4.6003, -4.6003, -4.6003],\n",
       "                      [-4.6003, -4.6003, -4.6003],\n",
       "                      [-4.6003, -4.6003, -4.6003],\n",
       "                      [-4.6003, -4.6003, -4.6003],\n",
       "                      [-4.6003, -4.6003, -4.6003]])),\n",
       "             ('layer2.q_mu', tensor([[0., 0., 0.],\n",
       "                      [0., 0., 0.],\n",
       "                      [0., 0., 0.],\n",
       "                      [0., 0., 0.],\n",
       "                      [0., 0., 0.],\n",
       "                      [0., 0., 0.],\n",
       "                      [0., 0., 0.],\n",
       "                      [0., 0., 0.],\n",
       "                      [0., 0., 0.],\n",
       "                      [0., 0., 0.]])),\n",
       "             ('layer2.z', tensor([[ 0.2615,  1.4999,  0.3586],\n",
       "                      [ 2.0656, -0.5502, -0.5004],\n",
       "                      [-0.2699,  0.1699,  0.0596],\n",
       "                      [ 0.2797, -0.5540,  0.1369],\n",
       "                      [-0.5388, -0.4394,  0.4616],\n",
       "                      [-1.1262, -0.0794, -0.3866],\n",
       "                      [-0.3161, -0.1181,  0.4015],\n",
       "                      [ 0.2592, -0.8478,  0.7538],\n",
       "                      [ 0.9507,  0.3814,  1.2036],\n",
       "                      [-1.5429,  3.0269,  0.4544]])),\n",
       "             ('layer2.kernel.lengthscale_', tensor([0.5413, 0.5413, 0.5413])),\n",
       "             ('layer2.kernel.magnitude_', tensor([0.5413])),\n",
       "             ('layer2.kernel.floor_', tensor([-9.2203])),\n",
       "             ('layer3.q_diag_S_', tensor([[0.5413],\n",
       "                      [0.5413],\n",
       "                      [0.5413],\n",
       "                      [0.5413],\n",
       "                      [0.5413],\n",
       "                      [0.5413],\n",
       "                      [0.5413],\n",
       "                      [0.5413],\n",
       "                      [0.5413],\n",
       "                      [0.5413]])),\n",
       "             ('layer3.q_mu', tensor([[0.],\n",
       "                      [0.],\n",
       "                      [0.],\n",
       "                      [0.],\n",
       "                      [0.],\n",
       "                      [0.],\n",
       "                      [0.],\n",
       "                      [0.],\n",
       "                      [0.],\n",
       "                      [0.]])),\n",
       "             ('layer3.z', tensor([[ 2.8614, -0.0816,  0.6516],\n",
       "                      [-0.0377, -0.1465,  0.5182],\n",
       "                      [-0.3299, -1.3252, -0.4869],\n",
       "                      [-0.3939, -0.4445,  0.8582],\n",
       "                      [-1.3235, -1.2220,  0.6241],\n",
       "                      [-0.3482, -0.4607,  1.2204],\n",
       "                      [ 1.1659,  1.1036, -0.5905],\n",
       "                      [ 0.2465,  1.1665,  1.1656],\n",
       "                      [-1.1821, -0.0844, -0.7582],\n",
       "                      [ 0.8475,  0.1103, -1.9850]])),\n",
       "             ('layer3.kernel.lengthscale_', tensor([0.5413, 0.5413, 0.5413])),\n",
       "             ('layer3.kernel.magnitude_', tensor([0.5413])),\n",
       "             ('layer3.kernel.floor_', tensor([-9.2203])),\n",
       "             ('likelihood.variance_', tensor([-6.9083]))])"
      ]
     },
     "execution_count": 69,
     "metadata": {},
     "output_type": "execute_result"
    }
   ],
   "source": [
    "class DGP3(torch.nn.Module):\n",
    "    \"\"\"3-layer deep Gaussian process model.\"\"\"\n",
    "    \n",
    "    def __init__(self, z0, data_size):\n",
    "        super().__init__()\n",
    "    \n",
    "        # layer 1\n",
    "        kern1 = RBF(input_dim=1, initial_lengthscale=0.2)\n",
    "        self.layer1 = SVGPLayer(kern1, input_dim=1, output_dim=3,\n",
    "                                                   initial_inducing_input=z0, initial_q_S_value=0.01, fix_inducing=False)\n",
    "\n",
    "        # define function, which copies 1-dim value to 1st dimension.\n",
    "        lin = torch.zeros((1, 3))\n",
    "        lin[:, 0] = 1.0\n",
    "        self.mean_func1 = lambda x: torch.mm(x, lin)\n",
    "        \n",
    "        # layer 2\n",
    "        kern2 = RBF(input_dim=3, initial_lengthscale=1.0)\n",
    "        self.layer2 = SVGPLayer(kern2, input_dim=3, output_dim=3,\n",
    "                                                   num_inducings=10, initial_q_S_value=0.01, fix_inducing=True)\n",
    "        self.mean_func2 = lambda x: x\n",
    "        \n",
    "        # layer 3\n",
    "        kern3 = RBF(input_dim=3, initial_lengthscale=1.0)\n",
    "        self.layer3 = SVGPLayer(kern3, input_dim=3, output_dim=1,\n",
    "                                            num_inducings=10, initial_q_S_value=1.0, fix_inducing=True)\n",
    "\n",
    "        # output\n",
    "        self.likelihood = Gaussian(output_dim=1, initial_variance=1e-3)\n",
    "\n",
    "        self.layers = [self.layer1, self.layer2, self.layer3]\n",
    "        self.data_size = data_size\n",
    "\n",
    "    def forward(self, x):\n",
    "        h1 = self.mean_func1(x) + self.layer1(x)\n",
    "        h2 = self.mean_func2(h1) + self.layer2(h1)\n",
    "\n",
    "        return self.layer3.pred_mean_and_var(h2)\n",
    "    \n",
    "    def calc_bound(self, y, f_dstr):\n",
    "        pe = self.likelihood.predictive_expectation(y, f_dstr)\n",
    "        \n",
    "        kld = sum(layer.kl_divergence() for layer in self.layers)\n",
    "        \n",
    "        batch_size = y.size(0)\n",
    "        bound = pe  - batch_size / self.data_size * kld\n",
    "        \n",
    "        return bound\n",
    "     \n",
    "    def predict(self, x):\n",
    "        f_dstr = self.forward(x)\n",
    "\n",
    "        y_dstr = self.likelihood.predict(f_dstr)\n",
    "        return y_dstr\n",
    "\n",
    "\n",
    "def make_dgp3():\n",
    "    z0 = np.linspace(-1.0, 1.0, 10)[:, None]  # num_inducings = 10\n",
    "    \n",
    "    model = DGP3(z0, len(dx))\n",
    "    \n",
    "    return model\n",
    "\n",
    "model = make_dgp3()\n",
    "model.state_dict()\n"
   ]
  },
  {
   "cell_type": "code",
   "execution_count": 70,
   "metadata": {},
   "outputs": [
    {
     "data": {
      "application/vnd.jupyter.widget-view+json": {
       "model_id": "f003c104d2624a35b639ca7b1db87d3c",
       "version_major": 2,
       "version_minor": 0
      },
      "text/plain": [
       "FloatProgress(value=0.0, max=1000.0)"
      ]
     },
     "metadata": {},
     "output_type": "display_data"
    }
   ],
   "source": [
    "optimizer = torch.optim.Adam(model.parameters(), lr = 0.01)\n",
    "lower_bound_list, pred_mean_list = train(optimizer, model, num_epochs=1000)"
   ]
  },
  {
   "cell_type": "markdown",
   "metadata": {},
   "source": [
    "## Results"
   ]
  },
  {
   "cell_type": "code",
   "execution_count": 71,
   "metadata": {},
   "outputs": [
    {
     "data": {
      "text/plain": [
       "[<matplotlib.lines.Line2D at 0x1a242c3f98>]"
      ]
     },
     "execution_count": 71,
     "metadata": {},
     "output_type": "execute_result"
    },
    {
     "data": {
      "image/png": "[encoded data removed]",
      "text/plain": [
       "<Figure size 432x288 with 1 Axes>"
      ]
     },
     "metadata": {
      "needs_background": "light"
     },
     "output_type": "display_data"
    }
   ],
   "source": [
    "# plotting the change of ELBO\n",
    "plt.plot(lower_bound_list)"
   ]
  },
  {
   "cell_type": "markdown",
   "metadata": {},
   "source": [
    "### plot predicted mean for each epoch"
   ]
  },
  {
   "cell_type": "code",
   "execution_count": 72,
   "metadata": {},
   "outputs": [
    {
     "data": {
      "text/plain": [
       "<matplotlib.legend.Legend at 0x1a2427eba8>"
      ]
     },
     "execution_count": 72,
     "metadata": {},
     "output_type": "execute_result"
    },
    {
     "data": {
      "image/png": "[encoded data removed]",
      "text/plain": [
       "<Figure size 432x288 with 1 Axes>"
      ]
     },
     "metadata": {
      "needs_background": "light"
     },
     "output_type": "display_data"
    }
   ],
   "source": [
    "plt.plot(nx, pred_mean_list[0], label='init')\n",
    "for j in [10, 100, 1000]:\n",
    "    if j < len(pred_mean_list):\n",
    "        plt.plot(nx, pred_mean_list[j], label=str(j))\n",
    "plt.plot(dx, dy, 'o', label='data')\n",
    "plt.legend()"
   ]
  },
  {
   "cell_type": "markdown",
   "metadata": {},
   "source": [
    "## plot layer-wise value"
   ]
  },
  {
   "cell_type": "code",
   "execution_count": 75,
   "metadata": {},
   "outputs": [
    {
     "data": {
      "text/plain": [
       "[<matplotlib.lines.Line2D at 0x1a244dea90>,\n",
       " <matplotlib.lines.Line2D at 0x1a244debe0>,\n",
       " <matplotlib.lines.Line2D at 0x1a244ded30>]"
      ]
     },
     "execution_count": 75,
     "metadata": {},
     "output_type": "execute_result"
    },
    {
     "data": {
      "image/png": "[encoded data removed]",
      "text/plain": [
       "<Figure size 432x288 with 1 Axes>"
      ]
     },
     "metadata": {
      "needs_background": "light"
     },
     "output_type": "display_data"
    }
   ],
   "source": [
    "tx = torch.from_numpy(nx.astype(np.float32))\n",
    "m1 = model.mean_func1(tx) + model.layer1.pred_mean_and_var(tx)['mean']\n",
    "plt.plot(nx, m1.data.numpy())"
   ]
  },
  {
   "cell_type": "code",
   "execution_count": 76,
   "metadata": {},
   "outputs": [
    {
     "data": {
      "text/plain": [
       "[<matplotlib.lines.Line2D at 0x1a244540b8>,\n",
       " <matplotlib.lines.Line2D at 0x1a24453dd8>,\n",
       " <matplotlib.lines.Line2D at 0x1a24453b38>]"
      ]
     },
     "execution_count": 76,
     "metadata": {},
     "output_type": "execute_result"
    },
    {
     "data": {
      "image/png": "[encoded data removed]",
      "text/plain": [
       "<Figure size 432x288 with 1 Axes>"
      ]
     },
     "metadata": {
      "needs_background": "light"
     },
     "output_type": "display_data"
    }
   ],
   "source": [
    "m2 = model.mean_func2(m1) + model.layer2.pred_mean_and_var(m1)['mean']\n",
    "plt.plot(nx, m2.data.numpy())"
   ]
  },
  {
   "cell_type": "code",
   "execution_count": 89,
   "metadata": {},
   "outputs": [
    {
     "data": {
      "text/plain": [
       "<matplotlib.legend.Legend at 0x1a24be8da0>"
      ]
     },
     "execution_count": 89,
     "metadata": {},
     "output_type": "execute_result"
    },
    {
     "data": {
      "image/png": "[encoded data removed]",
      "text/plain": [
       "<Figure size 432x288 with 1 Axes>"
      ]
     },
     "metadata": {
      "needs_background": "light"
     },
     "output_type": "display_data"
    }
   ],
   "source": [
    "f_dstr =model.layer3.pred_mean_and_var(m2)\n",
    "y_dstr = model.likelihood.predict(f_dstr)\n",
    "m_y = y_dstr['mean'].data.numpy()\n",
    "s_y = np.sqrt(y_dstr['var'].data.numpy())\n",
    "plt.fill_between(nx.ravel(), (m_y + 2 * s_y).ravel(), (m_y - 2 * s_y).ravel(), color='#cccccc')\n",
    "plt.plot(nx, m_y, label='mean')\n",
    "plt.plot(dx, dy, 'o', label='data')\n",
    "plt.legend()"
   ]
  },
  {
   "cell_type": "code",
   "execution_count": null,
   "metadata": {},
   "outputs": [],
   "source": []
  }
 ],
 "metadata": {
  "kernelspec": {
   "display_name": "Python 3",
   "language": "python",
   "name": "python3"
  },
  "language_info": {
   "codemirror_mode": {
    "name": "ipython",
    "version": 3
   },
   "file_extension": ".py",
   "mimetype": "text/x-python",
   "name": "python",
   "nbconvert_exporter": "python",
   "pygments_lexer": "ipython3",
   "version": "3.7.3"
  }
 },
 "nbformat": 4,
 "nbformat_minor": 2
}
