{
 "cells": [
  {
   "cell_type": "code",
   "execution_count": 1,
   "metadata": {},
   "outputs": [],
   "source": [
    "import copy\n",
    "import numpy as np\n",
    "\n",
    "import matplotlib.pyplot as plt\n",
    "import seaborn as sns\n",
    "%matplotlib inline\n",
    "\n",
    "from ipywidgets import FloatProgress\n",
    "from IPython.display import display\n",
    "\n",
    "%load_ext autoreload\n",
    "%autoreload 2"
   ]
  },
  {
   "cell_type": "code",
   "execution_count": 2,
   "metadata": {},
   "outputs": [],
   "source": [
    "import torch\n",
    "import torch.utils.data"
   ]
  },
  {
   "cell_type": "code",
   "execution_count": 3,
   "metadata": {},
   "outputs": [],
   "source": [
    "# DGP related methods\n",
    "import sys\n",
    "sys.path.append('../..')\n",
    "\n",
    "from dsvidgp.kernels import RBF\n",
    "from dsvidgp.likelihoods import Gaussian\n",
    "from dsvidgp.layers import SVGPLayer, NNLayer\n",
    "from dsvidgp.initial_value import calc_median_of_pairwise_distance, calc_centroid"
   ]
  },
  {
   "cell_type": "code",
   "execution_count": 4,
   "metadata": {},
   "outputs": [],
   "source": [
    "RAND_SEED = 811\n",
    "torch.manual_seed(RAND_SEED)\n",
    "np.random.seed(RAND_SEED)"
   ]
  },
  {
   "cell_type": "code",
   "execution_count": 5,
   "metadata": {},
   "outputs": [
    {
     "data": {
      "text/plain": [
       "device(type='cpu')"
      ]
     },
     "execution_count": 5,
     "metadata": {},
     "output_type": "execute_result"
    }
   ],
   "source": [
    "device = torch.device(\"cuda\" if torch.cuda.is_available() else \"cpu\")\n",
    "device"
   ]
  },
  {
   "cell_type": "code",
   "execution_count": 6,
   "metadata": {},
   "outputs": [],
   "source": [
    "DATA_SIZE = 50\n",
    "MINIBATCH_SIZE = 10\n",
    "\n",
    "HIDDEN_LAYER_DIM = 3\n",
    "INPUT_DIM = 1\n",
    "OUTPUT_DIM = 1\n",
    "\n",
    "# DNN configurations\n",
    "DNN_HIDDEN_UNITS = 128\n",
    "DNN_LEARNING_RATE = 0.001\n",
    "DNN_TRAINING_NUM_EPOCHS = 1000\n",
    "\n",
    "# GP configurations\n",
    "NUM_INDUCINGS = 20\n",
    "GP_LEARNING_RATE = 0.01\n",
    "LAYERWISE_GP_NUM_EPOCHS = 100\n",
    "DGP_NUM_EPOCHS = 1000\n"
   ]
  },
  {
   "cell_type": "markdown",
   "metadata": {},
   "source": [
    "## Make data"
   ]
  },
  {
   "cell_type": "code",
   "execution_count": 7,
   "metadata": {},
   "outputs": [
    {
     "data": {
      "text/plain": [
       "[<matplotlib.lines.Line2D at 0x1a29f17518>]"
      ]
     },
     "execution_count": 7,
     "metadata": {},
     "output_type": "execute_result"
    },
    {
     "data": {
      "image/png": "[encoded data removed]",
      "text/plain": [
       "<Figure size 432x288 with 1 Axes>"
      ]
     },
     "metadata": {
      "needs_background": "light"
     },
     "output_type": "display_data"
    }
   ],
   "source": [
    "\n",
    "dx = np.random.rand(DATA_SIZE, 1).astype(np.float32) * 2.0 - 1.0\n",
    "dy = np.where(dx + 0.04 * np.random.randn(*dx.shape) >= 0.0, 1.0, -1.0) \\\n",
    "        + 0.04 * np.random.randn(*dx.shape)\n",
    "dy = dy.astype(np.float32)\n",
    "\n",
    "nx = np.linspace(-1.0, 1.0, 200)[:, None]\n",
    "\n",
    "plt.plot(dx, dy, 'o')"
   ]
  },
  {
   "cell_type": "code",
   "execution_count": 8,
   "metadata": {},
   "outputs": [],
   "source": [
    "class Dataset(torch.utils.data.Dataset):\n",
    "    def __init__(self, dx, dy):\n",
    "\n",
    "        self._N = len(dx)\n",
    "        self._dx = dx\n",
    "        self._dy = dy\n",
    "        \n",
    "    def __len__(self):\n",
    "        return self._N\n",
    "    \n",
    "    def __getitem__(self, idx):\n",
    "        return self._dx[idx], self._dy[idx]\n",
    "    \n",
    "dataset = Dataset(dx, dy)\n",
    "dataloader = torch.utils.data.DataLoader(dataset, batch_size=MINIBATCH_SIZE, shuffle=True)\n"
   ]
  },
  {
   "cell_type": "code",
   "execution_count": 9,
   "metadata": {},
   "outputs": [],
   "source": [
    "#Plot function\n",
    "def plot_mean(pred_mean_list, plot_init=False):\n",
    "    if plot_init:\n",
    "        plt.plot(nx, pred_mean_list[0], label='init')\n",
    "    for j in [10, 100, 1000]:\n",
    "        if j < len(pred_mean_list):\n",
    "            plt.plot(nx, pred_mean_list[j], label=str(j))\n",
    "    plt.plot(dx, dy, 'o')\n",
    "    plt.legend()"
   ]
  },
  {
   "cell_type": "markdown",
   "metadata": {},
   "source": [
    "## Training method"
   ]
  },
  {
   "cell_type": "code",
   "execution_count": 10,
   "metadata": {},
   "outputs": [],
   "source": [
    "def train_dgp(optimizer, model, num_epochs):\n",
    "    lower_bound_list = list()\n",
    "    pred_mean_list = list()\n",
    "\n",
    "    tx = torch.from_numpy(nx.astype(np.float32))\n",
    "\n",
    "    pred_dstr = model.predict(tx.to(device))\n",
    "    pred_mean_list.append(pred_dstr['mean'].data.cpu().numpy().copy())\n",
    "\n",
    "    fp = FloatProgress(min=0, max=num_epochs)\n",
    "    display(fp)\n",
    "\n",
    "    for i in range(num_epochs):\n",
    "        fp.value = i\n",
    "        lower_bound = 0\n",
    "        \n",
    "        model.train()\n",
    "        for b, (x_B, y_B) in enumerate(dataloader):\n",
    "            x_B = x_B.to(device)\n",
    "            y_B = y_B.to(device)\n",
    "\n",
    "            optimizer.zero_grad()\n",
    "\n",
    "            f_dstr = model(x_B)\n",
    "            batch_bound = model.calc_bound(y_B, f_dstr)\n",
    "\n",
    "            loss = -batch_bound  # maximize\n",
    "            loss.backward()\n",
    "            \n",
    "            optimizer.step()\n",
    "\n",
    "            lower_bound += batch_bound.data.cpu().item()\n",
    "\n",
    "        lower_bound_list.append(lower_bound)\n",
    "\n",
    "        model.eval()\n",
    "        pred_dstr = model.predict(tx.to(device))\n",
    "        pred_mean_list.append(pred_dstr['mean'].data.cpu().numpy().copy())\n",
    "\n",
    "    return lower_bound_list, pred_mean_list\n"
   ]
  },
  {
   "cell_type": "code",
   "execution_count": 11,
   "metadata": {},
   "outputs": [],
   "source": [
    "def train_dnn(optimizer, model, criterion, num_epochs):\n",
    "    loss_list = list()\n",
    "    pred_list = list()\n",
    "\n",
    "    tx = torch.from_numpy(nx.astype(np.float32))\n",
    "\n",
    "    pred = model(tx.to(device))\n",
    "    pred_list.append(pred.data.cpu().numpy().copy())\n",
    "\n",
    "    fp = FloatProgress(min=0, max=num_epochs)\n",
    "    display(fp)\n",
    "\n",
    "    for i in range(num_epochs):\n",
    "        fp.value = i\n",
    "        loss_epoch = 0\n",
    "        \n",
    "        model.train()\n",
    "        for b, (x_B, y_B) in enumerate(dataloader):\n",
    "            x_B = x_B.to(device)\n",
    "            y_B = y_B.to(device)\n",
    "\n",
    "            optimizer.zero_grad()\n",
    "            output = model(x_B)\n",
    "            loss = criterion(output, y_B)\n",
    "            loss.backward()\n",
    "            optimizer.step()\n",
    "\n",
    "            loss_epoch += loss.data.cpu().item()\n",
    "\n",
    "        loss_list.append(loss_epoch)\n",
    "\n",
    "        model.eval()\n",
    "        pred = model(tx.to(device))\n",
    "        pred_list.append(pred.data.cpu().numpy().copy())\n",
    "\n",
    "    return loss_list, pred_list\n"
   ]
  },
  {
   "cell_type": "code",
   "execution_count": 12,
   "metadata": {},
   "outputs": [],
   "source": [
    "def train_layerwise_svgp(optimizer, svgp_train_config, dnn, num_epochs):\n",
    "    lower_bound_list = list()\n",
    "\n",
    "    fp = FloatProgress(min=0, max=num_epochs)\n",
    "    display(fp)\n",
    "\n",
    "    # Make all SVGP models training mode\n",
    "    for cfg in svgp_train_config:\n",
    "        cfg['svgp_model'].train()\n",
    "    dnn.train() # Use dropout to avoid overfitting\n",
    "\n",
    "    for i in range(num_epochs):\n",
    "        fp.value = i\n",
    "        lower_bound = 0\n",
    "        \n",
    "        for b, (x_B, y_B) in enumerate(dataloader):\n",
    "            x_B = x_B.to(device)\n",
    "            \n",
    "            optimizer.zero_grad()\n",
    "            \n",
    "            # DNN forward propagation \n",
    "            with torch.no_grad():\n",
    "                dnn_hidden_value_dict = dnn.layers_forward(x_B)\n",
    "            \n",
    "            bound_list = list()\n",
    "            for cfg in svgp_train_config:\n",
    "                svgp = cfg['svgp_model']\n",
    "\n",
    "                # Use DNN hidden layer values as input and output of Layerwise GP\n",
    "                layer_input = dnn_hidden_value_dict[cfg['input_key']]\n",
    "                layer_output = dnn_hidden_value_dict[cfg['output_key']]\n",
    "                \n",
    "                f_dstr = svgp(layer_input)\n",
    "                bound = svgp.calc_bound(layer_output, f_dstr)\n",
    "                bound_list.append(bound)\n",
    "            bound_all = sum(bound_list)\n",
    "\n",
    "            loss = -bound_all\n",
    "            loss.backward()\n",
    "            optimizer.step()\n",
    "\n",
    "            lower_bound += bound.data.cpu().item()\n",
    "\n",
    "        lower_bound_list.append(lower_bound)\n",
    "\n",
    "    return lower_bound_list\n"
   ]
  },
  {
   "cell_type": "markdown",
   "metadata": {},
   "source": [
    "## Pretraining 1: DNN training"
   ]
  },
  {
   "cell_type": "code",
   "execution_count": 13,
   "metadata": {},
   "outputs": [
    {
     "data": {
      "text/plain": [
       "DNN3(\n",
       "  (layer1): NNLayer(\n",
       "    (seq): Sequential(\n",
       "      (0): Linear(in_features=1, out_features=128, bias=True)\n",
       "      (1): ReLU()\n",
       "      (2): Dropout(p=0.2)\n",
       "      (3): Linear(in_features=128, out_features=3, bias=False)\n",
       "      (4): BatchNorm1d(3, eps=1e-05, momentum=0.1, affine=True, track_running_stats=True)\n",
       "    )\n",
       "  )\n",
       "  (layer2): NNLayer(\n",
       "    (seq): Sequential(\n",
       "      (0): Linear(in_features=3, out_features=128, bias=True)\n",
       "      (1): ReLU()\n",
       "      (2): Dropout(p=0.2)\n",
       "      (3): Linear(in_features=128, out_features=3, bias=False)\n",
       "      (4): BatchNorm1d(3, eps=1e-05, momentum=0.1, affine=True, track_running_stats=True)\n",
       "    )\n",
       "  )\n",
       "  (layer3): NNLayer(\n",
       "    (seq): Sequential(\n",
       "      (0): Linear(in_features=3, out_features=128, bias=True)\n",
       "      (1): ReLU()\n",
       "      (2): Dropout(p=0.2)\n",
       "      (3): Linear(in_features=128, out_features=1, bias=False)\n",
       "    )\n",
       "  )\n",
       ")"
      ]
     },
     "execution_count": 13,
     "metadata": {},
     "output_type": "execute_result"
    }
   ],
   "source": [
    "class DNN3(torch.nn.Module):\n",
    "    \"\"\"DNN used for pretraining of 3-layer DGP.\"\"\"\n",
    "    def __init__(self):\n",
    "        super().__init__()\n",
    "        self.layer1 = NNLayer(input_dim=INPUT_DIM,\n",
    "                              output_dim=HIDDEN_LAYER_DIM,\n",
    "                              num_hidden_units=DNN_HIDDEN_UNITS)\n",
    "\n",
    "        self.layer2 = NNLayer(input_dim=HIDDEN_LAYER_DIM,\n",
    "                              output_dim=HIDDEN_LAYER_DIM,\n",
    "                              num_hidden_units=DNN_HIDDEN_UNITS)\n",
    "\n",
    "        self.layer3 = NNLayer(input_dim=HIDDEN_LAYER_DIM,\n",
    "                              output_dim=OUTPUT_DIM,\n",
    "                              num_hidden_units=DNN_HIDDEN_UNITS,\n",
    "                              batch_norm=False)\n",
    "    \n",
    "    def forward(self, x):\n",
    "        h_dict = self.layers_forward(x)\n",
    "        return h_dict['y']\n",
    "        \n",
    "    def layers_forward(self, x):\n",
    "        \"\"\"Output all hidden layer values.\"\"\"\n",
    "        h1 = self.layer1(x)\n",
    "        h2 = self.layer2(h1)\n",
    "        pred = self.layer3(h2)\n",
    "        \n",
    "        h_dict = {'x': x, 'h1': h1, 'h2': h2, 'y': pred}\n",
    "        \n",
    "        return h_dict\n",
    "     \n",
    "dnn_model =  DNN3()\n",
    "dnn_model"
   ]
  },
  {
   "cell_type": "code",
   "execution_count": 14,
   "metadata": {},
   "outputs": [
    {
     "data": {
      "application/vnd.jupyter.widget-view+json": {
       "model_id": "8bbdbabe5a4647a49c1d0c25dae1cf02",
       "version_major": 2,
       "version_minor": 0
      },
      "text/plain": [
       "FloatProgress(value=0.0, max=1000.0)"
      ]
     },
     "metadata": {},
     "output_type": "display_data"
    }
   ],
   "source": [
    "optimizer_dnn = torch.optim.Adam(dnn_model.parameters(), lr=DNN_LEARNING_RATE)\n",
    "loss_dnn_list, pred_mean_dnn_list = train_dnn(\n",
    "    optimizer=optimizer_dnn,\n",
    "    model=dnn_model,\n",
    "    criterion=torch.nn.MSELoss(), num_epochs=DNN_TRAINING_NUM_EPOCHS)"
   ]
  },
  {
   "cell_type": "code",
   "execution_count": 15,
   "metadata": {},
   "outputs": [
    {
     "data": {
      "text/plain": [
       "Text(0, 0.5, 'Loss')"
      ]
     },
     "execution_count": 15,
     "metadata": {},
     "output_type": "execute_result"
    },
    {
     "data": {
      "image/png": "[encoded data removed]",
      "text/plain": [
       "<Figure size 432x288 with 1 Axes>"
      ]
     },
     "metadata": {
      "needs_background": "light"
     },
     "output_type": "display_data"
    }
   ],
   "source": [
    "plt.plot(loss_dnn_list)\n",
    "plt.xlabel('Epoch')\n",
    "plt.ylabel('Loss')"
   ]
  },
  {
   "cell_type": "code",
   "execution_count": 16,
   "metadata": {},
   "outputs": [
    {
     "data": {
      "image/png": "[encoded data removed]",
      "text/plain": [
       "<Figure size 432x288 with 1 Axes>"
      ]
     },
     "metadata": {
      "needs_background": "light"
     },
     "output_type": "display_data"
    }
   ],
   "source": [
    "# Plot DNN predition performance\n",
    "plot_mean(pred_mean_dnn_list)"
   ]
  },
  {
   "cell_type": "markdown",
   "metadata": {},
   "source": [
    "## Pretraining 2: Layerwise GP training"
   ]
  },
  {
   "cell_type": "code",
   "execution_count": 17,
   "metadata": {},
   "outputs": [
    {
     "data": {
      "text/plain": [
       "SVGP(\n",
       "  (layer): SVGPLayer(\n",
       "    input_dim=1, output_dim=3, num_inducings=20\n",
       "    (kernel): RBF()\n",
       "  )\n",
       "  (likelihood): Gaussian()\n",
       ")"
      ]
     },
     "execution_count": 17,
     "metadata": {},
     "output_type": "execute_result"
    }
   ],
   "source": [
    "class SVGP(torch.nn.Module):\n",
    "    \"\"\"1-layer Stochastic Variational Gaussian process model.\"\"\"\n",
    "    \n",
    "    def __init__(self, input_dim, output_dim, initial_lengthscale,\n",
    "                 initial_inducing_input=None,\n",
    "                 data_size=DATA_SIZE):\n",
    "        super().__init__()\n",
    "    \n",
    "        kern = RBF(input_dim=input_dim,\n",
    "                   initial_lengthscale=initial_lengthscale)\n",
    "        self.layer = SVGPLayer(kernel=kern,\n",
    "                                input_dim=input_dim,\n",
    "                                output_dim=output_dim,\n",
    "                                initial_inducing_input=initial_inducing_input,\n",
    "                                num_inducings=NUM_INDUCINGS,\n",
    "                                initial_q_S_value=1.0,\n",
    "                                fix_inducing=False)\n",
    "        # output\n",
    "        self.likelihood = Gaussian(output_dim=output_dim,\n",
    "                                   initial_variance=1e-3)\n",
    "\n",
    "        self.data_size = data_size\n",
    "\n",
    "    def forward(self, x):\n",
    "        return self.layer.pred_mean_and_var(x)\n",
    "    \n",
    "    def calc_bound(self, y, f_dstr):\n",
    "        pe = self.likelihood.predictive_expectation(y, f_dstr)\n",
    "        \n",
    "        kld = self.layer.kl_divergence()\n",
    "        \n",
    "        batch_size = y.size(0)\n",
    "        bound = pe  - batch_size / self.data_size * kld\n",
    "        \n",
    "        return bound\n",
    "     \n",
    "    def predict(self, x):\n",
    "        f_dstr = self.forward(x)\n",
    "\n",
    "        y_dstr = self.likelihood.predict(f_dstr)\n",
    "        return y_dstr\n",
    "\n",
    "\n",
    "def make_svgp_list():\n",
    "    lengthscale = calc_median_of_pairwise_distance([dx])\n",
    "    centroid = calc_centroid(NUM_INDUCINGS, [dx])\n",
    "    \n",
    "    svgp1_model = SVGP(INPUT_DIM, HIDDEN_LAYER_DIM, initial_lengthscale=lengthscale,\n",
    "                       initial_inducing_input=centroid)\n",
    "    svgp2_model = SVGP(HIDDEN_LAYER_DIM, HIDDEN_LAYER_DIM, initial_lengthscale=1.0)\n",
    "    \n",
    "    return [svgp1_model, svgp2_model]\n",
    "\n",
    "svgp_list = make_svgp_list()\n",
    "svgp_list[0]"
   ]
  },
  {
   "cell_type": "code",
   "execution_count": 18,
   "metadata": {},
   "outputs": [
    {
     "data": {
      "application/vnd.jupyter.widget-view+json": {
       "model_id": "d96f710dc3a043b5a938fc5d7c771fa1",
       "version_major": 2,
       "version_minor": 0
      },
      "text/plain": [
       "FloatProgress(value=0.0)"
      ]
     },
     "metadata": {},
     "output_type": "display_data"
    }
   ],
   "source": [
    "svgp_train_config = [\n",
    "    {'input_key': 'x', 'output_key': 'h1', 'svgp_model': svgp_list[0]},\n",
    "    {'input_key': 'h1', 'output_key': 'h2', 'svgp_model': svgp_list[1]},\n",
    "]\n",
    "\n",
    "optimizer_svgp_list = torch.optim.Adam(list(svgp_list[0].parameters()) + \\\n",
    "                                       list(svgp_list[1].parameters()),\n",
    "                                       lr=0.01)\n",
    "# optimizer_svgp_list.param_groups\n",
    "lower_bound_list = train_layerwise_svgp(optimizer_svgp_list,\n",
    "                                        svgp_train_config, dnn_model,\n",
    "                                        num_epochs=LAYERWISE_GP_NUM_EPOCHS)"
   ]
  },
  {
   "cell_type": "code",
   "execution_count": 19,
   "metadata": {},
   "outputs": [
    {
     "data": {
      "text/plain": [
       "Text(0, 0.5, 'ELBO')"
      ]
     },
     "execution_count": 19,
     "metadata": {},
     "output_type": "execute_result"
    },
    {
     "data": {
      "image/png": "[encoded data removed]",
      "text/plain": [
       "<Figure size 432x288 with 1 Axes>"
      ]
     },
     "metadata": {
      "needs_background": "light"
     },
     "output_type": "display_data"
    }
   ],
   "source": [
    "plt.plot(lower_bound_list)\n",
    "plt.xlabel('Epoch')\n",
    "plt.ylabel('ELBO')"
   ]
  },
  {
   "cell_type": "markdown",
   "metadata": {},
   "source": [
    "## Define DGP model"
   ]
  },
  {
   "cell_type": "code",
   "execution_count": 20,
   "metadata": {},
   "outputs": [
    {
     "data": {
      "text/plain": [
       "DGP3(\n",
       "  (layer1): SVGPLayer(\n",
       "    input_dim=1, output_dim=3, num_inducings=20\n",
       "    (kernel): RBF()\n",
       "  )\n",
       "  (layer2): SVGPLayer(\n",
       "    input_dim=3, output_dim=3, num_inducings=20\n",
       "    (kernel): RBF()\n",
       "  )\n",
       "  (layer3): SVGPLayer(\n",
       "    input_dim=3, output_dim=1, num_inducings=20\n",
       "    (kernel): RBF()\n",
       "  )\n",
       "  (likelihood): Gaussian()\n",
       ")"
      ]
     },
     "execution_count": 20,
     "metadata": {},
     "output_type": "execute_result"
    }
   ],
   "source": [
    "class DGP3(torch.nn.Module):\n",
    "    \"\"\"3-layer deep Gaussian process model.\"\"\"\n",
    "    \n",
    "    def __init__(self, layer1, layer2, data_size):\n",
    "        super().__init__()\n",
    "    \n",
    "        # layer 1\n",
    "        self.layer1 = copy.deepcopy(layer1)\n",
    "        self.layer1.fix_inducing_(False)\n",
    "\n",
    "        # layer 2\n",
    "        self.layer2 = copy.deepcopy(layer2)\n",
    "        self.layer2.fix_inducing_(True)\n",
    "\n",
    "        # layer 3\n",
    "        kern3 = RBF(input_dim=HIDDEN_LAYER_DIM, initial_lengthscale=1.0)\n",
    "        self.layer3 = SVGPLayer(kernel=kern3,\n",
    "                                input_dim=HIDDEN_LAYER_DIM,\n",
    "                                output_dim=OUTPUT_DIM,\n",
    "                                num_inducings=NUM_INDUCINGS,\n",
    "                                initial_q_S_value=0.01,\n",
    "                                fix_inducing=True)\n",
    "\n",
    "        # output\n",
    "        self.likelihood = Gaussian(output_dim=OUTPUT_DIM, initial_variance=1e-3)\n",
    "\n",
    "        self.layers = [self.layer1, self.layer2, self.layer3]\n",
    "        self.data_size = data_size\n",
    "\n",
    "    def forward(self, x):\n",
    "        h1 = self.layer1(x)\n",
    "        h2 = self.layer2(h1)\n",
    "\n",
    "        return self.layer3.pred_mean_and_var(h2)\n",
    "    \n",
    "    def calc_bound(self, y, f_dstr):\n",
    "        pe = self.likelihood.predictive_expectation(y, f_dstr)\n",
    "        \n",
    "        kld = sum(layer.kl_divergence() for layer in self.layers)\n",
    "        \n",
    "        batch_size = y.size(0)\n",
    "        bound = pe  - batch_size / self.data_size * kld\n",
    "        \n",
    "        return bound\n",
    "     \n",
    "    def predict(self, x):\n",
    "        f_dstr = self.forward(x)\n",
    "\n",
    "        y_dstr = self.likelihood.predict(f_dstr)\n",
    "        return y_dstr\n",
    "\n",
    "\n",
    "def make_dgp3():\n",
    "    model = DGP3(layer1=svgp_list[0].layer,\n",
    "                 layer2=svgp_list[1].layer,\n",
    "                 data_size=DATA_SIZE)\n",
    "    \n",
    "    return model\n",
    "\n",
    "dgp_model = make_dgp3()\n",
    "dgp_model"
   ]
  },
  {
   "cell_type": "code",
   "execution_count": 21,
   "metadata": {},
   "outputs": [
    {
     "data": {
      "application/vnd.jupyter.widget-view+json": {
       "model_id": "15855933fe8546deb222a979d626a92a",
       "version_major": 2,
       "version_minor": 0
      },
      "text/plain": [
       "FloatProgress(value=0.0, max=1000.0)"
      ]
     },
     "metadata": {},
     "output_type": "display_data"
    }
   ],
   "source": [
    "optimizer = torch.optim.Adam(dgp_model.parameters(), lr=GP_LEARNING_RATE)\n",
    "lower_bound_list, pred_mean_list = train_dgp(optimizer, dgp_model, num_epochs=DGP_NUM_EPOCHS)"
   ]
  },
  {
   "cell_type": "markdown",
   "metadata": {},
   "source": [
    "## Results"
   ]
  },
  {
   "cell_type": "code",
   "execution_count": 22,
   "metadata": {},
   "outputs": [
    {
     "data": {
      "text/plain": [
       "Text(0, 0.5, 'ELBO')"
      ]
     },
     "execution_count": 22,
     "metadata": {},
     "output_type": "execute_result"
    },
    {
     "data": {
      "image/png": "[encoded data removed]",
      "text/plain": [
       "<Figure size 432x288 with 1 Axes>"
      ]
     },
     "metadata": {
      "needs_background": "light"
     },
     "output_type": "display_data"
    }
   ],
   "source": [
    "# plotting the change of ELBO\n",
    "plt.plot(lower_bound_list)\n",
    "plt.xlabel('Epoch')\n",
    "plt.ylabel('ELBO')"
   ]
  },
  {
   "cell_type": "markdown",
   "metadata": {},
   "source": [
    "### plot predicted mean for each epoch"
   ]
  },
  {
   "cell_type": "code",
   "execution_count": 23,
   "metadata": {},
   "outputs": [
    {
     "data": {
      "text/plain": [
       "<matplotlib.legend.Legend at 0x1a2c8f0eb8>"
      ]
     },
     "execution_count": 23,
     "metadata": {},
     "output_type": "execute_result"
    },
    {
     "data": {
      "image/png": "[encoded data removed]",
      "text/plain": [
       "<Figure size 432x288 with 1 Axes>"
      ]
     },
     "metadata": {
      "needs_background": "light"
     },
     "output_type": "display_data"
    }
   ],
   "source": [
    "plt.plot(nx, pred_mean_list[0], label='init')\n",
    "for j in [10, 100, 1000]:\n",
    "    if j < len(pred_mean_list):\n",
    "        plt.plot(nx, pred_mean_list[j], label=str(j))\n",
    "plt.plot(dx, dy, 'o', label='data')\n",
    "plt.legend()"
   ]
  },
  {
   "cell_type": "markdown",
   "metadata": {},
   "source": [
    "## plot layer-wise value"
   ]
  },
  {
   "cell_type": "code",
   "execution_count": 24,
   "metadata": {},
   "outputs": [
    {
     "data": {
      "text/plain": [
       "[<matplotlib.lines.Line2D at 0x1a2c9d0588>,\n",
       " <matplotlib.lines.Line2D at 0x1a2c9d06d8>,\n",
       " <matplotlib.lines.Line2D at 0x1a2c9d0828>]"
      ]
     },
     "execution_count": 24,
     "metadata": {},
     "output_type": "execute_result"
    },
    {
     "data": {
      "image/png": "[encoded data removed]",
      "text/plain": [
       "<Figure size 432x288 with 1 Axes>"
      ]
     },
     "metadata": {
      "needs_background": "light"
     },
     "output_type": "display_data"
    }
   ],
   "source": [
    "tx = torch.from_numpy(nx.astype(np.float32))\n",
    "m1 = dgp_model.layer1.pred_mean_and_var(tx)['mean']\n",
    "plt.plot(nx, m1.data.numpy())"
   ]
  },
  {
   "cell_type": "code",
   "execution_count": 25,
   "metadata": {},
   "outputs": [
    {
     "data": {
      "text/plain": [
       "[<matplotlib.lines.Line2D at 0x1a2cb8c438>,\n",
       " <matplotlib.lines.Line2D at 0x1a2cb8c588>,\n",
       " <matplotlib.lines.Line2D at 0x1a2cb8c6d8>]"
      ]
     },
     "execution_count": 25,
     "metadata": {},
     "output_type": "execute_result"
    },
    {
     "data": {
      "image/png": "[encoded data removed]",
      "text/plain": [
       "<Figure size 432x288 with 1 Axes>"
      ]
     },
     "metadata": {
      "needs_background": "light"
     },
     "output_type": "display_data"
    }
   ],
   "source": [
    "m2 = dgp_model.layer2.pred_mean_and_var(m1)['mean']\n",
    "plt.plot(nx, m2.data.numpy())"
   ]
  },
  {
   "cell_type": "markdown",
   "metadata": {},
   "source": [
    "Plot predictive distribution approximated by\n",
    "$$\n",
    "\\begin{align}\n",
    "p(y) &= \\int p(y | f) q(f | \\bar{h}^{(2)}) df \\\\\n",
    "\\bar{h}^{(2)} &= \\mathbb{E}\\left[ q(h^{(2)} | \\bar{h}^{(1)}) \\right] \\\\\n",
    "\\bar{h}^{(1)} &= \\mathbb{E}\\left[ q(h^{(1)} | x) \\right].\n",
    "\\end{align}\n",
    "$$\n"
   ]
  },
  {
   "cell_type": "code",
   "execution_count": 26,
   "metadata": {},
   "outputs": [
    {
     "data": {
      "text/plain": [
       "<matplotlib.legend.Legend at 0x1a2cc5c7b8>"
      ]
     },
     "execution_count": 26,
     "metadata": {},
     "output_type": "execute_result"
    },
    {
     "data": {
      "image/png": "[encoded data removed]",
      "text/plain": [
       "<Figure size 432x288 with 1 Axes>"
      ]
     },
     "metadata": {
      "needs_background": "light"
     },
     "output_type": "display_data"
    }
   ],
   "source": [
    "f_dstr = dgp_model.layer3.pred_mean_and_var(m2)\n",
    "y_dstr = dgp_model.likelihood.predict(f_dstr)\n",
    "m_y = y_dstr['mean'].data.numpy()\n",
    "s_y = np.sqrt(y_dstr['var'].data.numpy())\n",
    "plt.fill_between(nx.ravel(), (m_y + s_y).ravel(), (m_y - s_y).ravel(), color='#cccccc')\n",
    "plt.plot(nx, m_y, label='mean')\n",
    "plt.plot(dx, dy, 'o', label='data')\n",
    "plt.legend()"
   ]
  },
  {
   "cell_type": "code",
   "execution_count": null,
   "metadata": {},
   "outputs": [],
   "source": []
  }
 ],
 "metadata": {
  "kernelspec": {
   "display_name": "Python 3",
   "language": "python",
   "name": "python3"
  },
  "language_info": {
   "codemirror_mode": {
    "name": "ipython",
    "version": 3
   },
   "file_extension": ".py",
   "mimetype": "text/x-python",
   "name": "python",
   "nbconvert_exporter": "python",
   "pygments_lexer": "ipython3",
   "version": "3.7.3"
  }
 },
 "nbformat": 4,
 "nbformat_minor": 2
}
